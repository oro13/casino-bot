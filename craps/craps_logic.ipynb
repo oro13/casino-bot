{
 "cells": [
  {
   "cell_type": "markdown",
   "metadata": {},
   "source": [
    "Pass & Don't pass. 0% house edge. Paid based on the 'true odds' of the roll.\n",
    "\n",
    "Don't pass slightly lower house edge at 1.36%\n",
    "Pass house edge is 1.41% \n",
    "A difference of 0.05% House Edge\n",
    "Arguably an inconsiderable difference\n",
    "\n",
    "![http://www.nextshooter.com/odds](./free_odds_bets.png)\n"
   ]
  },
  {
   "cell_type": "markdown",
   "metadata": {},
   "source": [
    "Pseudo Code:\n",
    "\n",
    "```python\n",
    "\n",
    "self.table_odds = '3-4-5X'\n",
    "#this prototype assumes 'taking maximum odds', ie betting odds to the full limit, as it is assumed to be the best strategy\n",
    "\n",
    "self.point_on = 0\n",
    "\n",
    "def new_shooter(self):\n",
    "    #set baseline bet"
   ]
  },
  {
   "cell_type": "markdown",
   "metadata": {},
   "source": [
    "```\n",
    "\n",
    "always 6x the initial bet\n",
    "\n",
    "wins 2 points for every 3 units bet (on odds..?)"
   ]
  },
  {
   "cell_type": "code",
   "execution_count": 1,
   "metadata": {},
   "outputs": [],
   "source": [
    "import numpy as np\n"
   ]
  },
  {
   "cell_type": "code",
   "execution_count": 54,
   "metadata": {},
   "outputs": [],
   "source": [
    "#game logic methods\n",
    "\n",
    "#check for craps\n",
    "\n",
    "#check if pass\n",
    "    #update players bets\n",
    "\n",
    "#check if don't pass\n",
    "\n",
    "    #update players bets\n",
    "\n",
    "\n"
   ]
  },
  {
   "cell_type": "code",
   "execution_count": 152,
   "metadata": {},
   "outputs": [],
   "source": [
    "class Table:\n",
    "    '''Defines the current state of the table with 1 player, and updates this player's bets.\n",
    "    \n",
    "    '''\n",
    "    def __init__(self, player):\n",
    "        self.player = player #TODO add multiplayer\n",
    "        self.dice1 = 0\n",
    "        self.dice2 = 0\n",
    "        self.dice_sum = 0\n",
    "        self.point_on = 0 #the point\n",
    "    \n",
    "    def roll_dice(self):\n",
    "        #sets the state of the most recent roll\n",
    "        self.dice1 = np.random.randint(1,7) \n",
    "        self.dice2 = np.random.randint(1,7)\n",
    "        self.dice_sum = self.dice1 + self.dice2\n",
    "        print(f'You rolled a {self.dice1} and a {self.dice2}\\nThe sum is {self.dice_sum}')\n",
    "        \n",
    "    def ask_bet(self, player) -> dict:\n",
    "        #check if player has money to play this round\n",
    "        if not player.chips:\n",
    "            print(\"sorry you need more cash to play this round\")\n",
    "        else:\n",
    "            #placement\n",
    "            print(\"What bet would you like to place? pass (p) or don't pass (dp)?\")\n",
    "            placement_input = input(\"(Enter 'p' to bet on Pass Line or 'dp' to bet on Dont Pass Line):\")\n",
    "            if placement_input in {'p',\"P\"}:\n",
    "                placement_valid = 'pass'\n",
    "            elif placement_input in {'dp',\"DP\"}:\n",
    "                placement_valid = 'dont_pass'\n",
    "            else:\n",
    "                print('invalid bet placement')\n",
    "            #amount\n",
    "            print(\"How much would you like to bet?\")\n",
    "            amount_input = input(\"(Enter the dollar amount you'd like to bet)\")\n",
    "            if type(amount_input) == int:\n",
    "                if player.chips - amount_input >= 0:\n",
    "                    amount_valid = amount_input\n",
    "                else:\n",
    "                    print(\"You need to bet lower\")\n",
    "            #check\n",
    "            if placement_valid and amount_valid:\n",
    "                player.bet(placement_valid, amount_valid)\n",
    "            else:\n",
    "                print(\"something wen wrong placing the bet\")\n",
    "        \n",
    "        \n",
    "    def current_roll(self):\n",
    "    '''Most of the game logic of each 'round'\n",
    "    '''\n",
    "    while roll {\n",
    "        if not (self.player.pass_ or self.player.dont_pass):\n",
    "            #prompt for bet\n",
    "            \n",
    "            self.player.place_bet(bet)\n",
    "        self.roll_dice()\n",
    "        if not self.point_on: #come out roll\n",
    "            #craps\n",
    "            if self.dice_sum in {2,3,12};\n",
    "                self.player.pass_ = 0 #pass lose\n",
    "                if self.dice_sum == 12:\n",
    "                    #Don't pass push\n",
    "                    self.player.chips += self.dont_pass\n",
    "                    self.dont_pass_ = 0\n",
    "                else:\n",
    "                    #don't pass wins 2 or 3\n",
    "                    self.player.chips += 2*self.dont_pass\n",
    "                    self.dont_pass_ = 0\n",
    "            elif self.dice_sum in {7,11}:\n",
    "                #pass win\n",
    "                self.player.chips += 2*self.player.pass_ \n",
    "                self.player.pass_ = 0 #reset pass bet\n",
    "                #Don't pass lose\n",
    "                self.player.dont_pass = 0 #reset dont pass         \n",
    "            elif self.dice_sum in {4,5,6,8,9,10}:\n",
    "                self.point_on = self.dice_sum\n",
    "                continue #does this skip the next elif?\n",
    "        elif self.point_on: #same shooter..?\n",
    "            if self.dice_sum in {4,5,6,8,9,10}:\n",
    "                if self.point_on == self.dice_sum:\n",
    "                    #Pass win\n",
    "                    if self.player.pass_:\n",
    "                        self.player.chips += 2 * self.player.pass_\n",
    "                        #pass odds\n",
    "                        #6:5\n",
    "                        if self.point_on in {6,8}: \n",
    "                               self.player.pass_odds = 5*self.player.dont_pass \n",
    "                        #3:2\n",
    "                        elif self.point_on in {9,5}:\n",
    "                           self.player.chips += 2*self.player.pass_odds\n",
    "                        #2:1\n",
    "                        elif self.point_on in {4,10}:\n",
    "                           self.player.chips += 2*self.player.pass_odds\n",
    "                    elif self.player.dont_pass:\n",
    "                        #Don't pass lose\n",
    "                        self.player.dont_pass = 0\n",
    "                        self.player.dont_pass_odds = 0\n",
    "                    #payout for various bets (TODO after mvp is working)\n",
    "#                     if self.dice_sum == 4:\n",
    "#                         pass\n",
    "#                     elif self.dice_sum == 5:\n",
    "#                         pass\n",
    "#                     elif self.dice_sum == 6:\n",
    "#                         pass\n",
    "#                     elif self.dice_sum == 8:\n",
    "#                         pass\n",
    "#                     elif self.dice_sum == 9:\n",
    "#                         pass\n",
    "#                     elif self.dice_sum == 10:\n",
    "#                         pass             \n",
    "            elif self.dice_sum == 7:         \n",
    "                if.self.player.pass_:\n",
    "                    #Pass lose\n",
    "                    self.player.pass_ = 0\n",
    "                    self.player.pass_odds = 0\n",
    "                elif self.player.dont_pass:\n",
    "                    #Don't pass win (1 to 1 \n",
    "                    self.player.chips += 2*self.player.dont_pass\n",
    "                    #dont pass odds\n",
    "                        #5:6\n",
    "                        if self.point_on in {6,8}: \n",
    "                               self.player.pass_odds = 5*self.player.dont_pass \n",
    "                        #2:3\n",
    "                        elif self.point_on in {9,5}:\n",
    "                           self.player.chips += 2*self.player.pass_odds\n",
    "                        #1:2\n",
    "                        elif self.point_on in {4,10}:\n",
    "                           self.player.chips += 2*self.player.pass_odds\n",
    "                 #CHECK\n",
    "                #Don't pass free odds (reverse of pass free odds)\n",
    "\n",
    "\n",
    "                #for initial wager and\n",
    "\n",
    "\n",
    "\n",
    "    }\n",
    "    \n",
    "    \n",
    "            \n",
    "        #TODO all the dice outcomes\n",
    "    \n",
    "    "
   ]
  },
  {
   "cell_type": "code",
   "execution_count": 167,
   "metadata": {},
   "outputs": [],
   "source": [
    "t = Table(p)"
   ]
  },
  {
   "cell_type": "code",
   "execution_count": 168,
   "metadata": {},
   "outputs": [
    {
     "name": "stdout",
     "output_type": "stream",
     "text": [
      "You rolled a 2 and a 1\n",
      "The sum is 3\n",
      "The point is set to 3\n"
     ]
    }
   ],
   "source": [
    "t.roll()"
   ]
  },
  {
   "cell_type": "code",
   "execution_count": 169,
   "metadata": {},
   "outputs": [
    {
     "name": "stdout",
     "output_type": "stream",
     "text": [
      "You rolled a 3 and a 2\n",
      "The sum is 5\n"
     ]
    },
    {
     "data": {
      "text/plain": [
       "3"
      ]
     },
     "execution_count": 169,
     "metadata": {},
     "output_type": "execute_result"
    }
   ],
   "source": [
    "t.roll()\n",
    "t.point"
   ]
  },
  {
   "cell_type": "code",
   "execution_count": 189,
   "metadata": {},
   "outputs": [
    {
     "name": "stdout",
     "output_type": "stream",
     "text": [
      "You rolled a 2 and a 1\n",
      "The sum is 3\n"
     ]
    },
    {
     "data": {
      "text/plain": [
       "0"
      ]
     },
     "execution_count": 189,
     "metadata": {},
     "output_type": "execute_result"
    }
   ],
   "source": [
    "t.roll()\n",
    "t.point"
   ]
  },
  {
   "cell_type": "code",
   "execution_count": 104,
   "metadata": {},
   "outputs": [],
   "source": [
    "class Player(object):\n",
    "    '''Defines the present betting state of the board, and the established point.\n",
    "    \n",
    "    '''\n",
    "    def __init__(self, chips):\n",
    "        self.chips = chips\n",
    "        #Box Numbers bets\n",
    "        self.four = 0\n",
    "        self.five = 0\n",
    "        self.six = 0\n",
    "        self.eight = 0\n",
    "        self.nine = 0\n",
    "        self.ten = 0\n",
    "        #Other bets\n",
    "        self.pass_ = 0\n",
    "        self.pass_odds = 0\n",
    "        self.dont_pass = 0\n",
    "        self.dont_pass_odds = 0\n",
    "    \n",
    "    #basic case, {placement: amount}\n",
    "    #example: \n",
    "    #bet = {'pass':5}\n",
    "    def place_bet(self, bet):        \n",
    "        #for placement, amount in bet.items():\n",
    "        if self.chips - amount >= 0:\n",
    "            if placement == 'pass':       \n",
    "                self.pass_ += amount\n",
    "                self.chips -= amount\n",
    "            elif placement == 'dont_pass':\n",
    "                self.dont_pass += amount\n",
    "                self.chips -= amount\n",
    "            else:\n",
    "                print('You can't bet on that, pal')\n",
    "                return\n",
    "                          \n",
    "        else: \n",
    "            print('Out of chips, kid')\n",
    "            return\n",
    "                                     \n",
    "    def take_odds(self):\n",
    "       '''set pass odds\n",
    "       \n",
    "       '''\n",
    "        if self.table_odds = '3-4-5X':\n",
    "            #5x\n",
    "            if self.point_on in {6,8}: \n",
    "               self.player.pass_odds = 5*self.player.pass_\n",
    "            #4x\n",
    "            if self.point_on in {9,5}:\n",
    "               self.player.pass_odds = 4*self.player.pass_ \n",
    "            #3x\n",
    "            if self.point_on in {4,10}:\n",
    "               self.player.pass_odds = 3*self.player.pass_\n",
    "        else:\n",
    "            print('We don't play by those rules at this casino')\n",
    "                  \n",
    "      def lay_odds(self):\n",
    "       '''set don't pass odds\n",
    "\n",
    "       '''\n",
    "        if self.table_odds = '3-4-5X':\n",
    "            #5x\n",
    "            if self.point_on in {6,8}: \n",
    "               self.player.pass_odds = 5*self.player.pass_\n",
    "            #4x\n",
    "            if self.point_on in {9,5}:\n",
    "               self.player.pass_odds = 4*self.player.pass_ \n",
    "            #3x\n",
    "            if self.point_on in {4,10}:\n",
    "               self.player.pass_odds = 3*self.player.pass_\n",
    "        else:\n",
    "            print('We don't play by those rules at this casino')\n",
    "\n"
   ]
  },
  {
   "cell_type": "code",
   "execution_count": 123,
   "metadata": {},
   "outputs": [],
   "source": [
    "import unittest\n",
    "\n",
    "class PlayerTestCase(unittest.TestCase):\n",
    "    pass"
   ]
  },
  {
   "cell_type": "code",
   "execution_count": null,
   "metadata": {},
   "outputs": [],
   "source": [
    "p = Player(500)\n",
    "self.assertEqual(p.pass_, 0)\n",
    "assert p.chips, 500"
   ]
  },
  {
   "cell_type": "code",
   "execution_count": 115,
   "metadata": {},
   "outputs": [
    {
     "data": {
      "text/plain": [
       "(499, 1)"
      ]
     },
     "execution_count": 115,
     "metadata": {},
     "output_type": "execute_result"
    }
   ],
   "source": [
    "bet = {'pass':499}\n",
    "p.place_bet(bet)\n",
    "p.pass_, p.chips"
   ]
  },
  {
   "cell_type": "code",
   "execution_count": 116,
   "metadata": {},
   "outputs": [],
   "source": [
    "bet2 = {'dont_pass':1}\n",
    "p.place_bet(bet2)"
   ]
  },
  {
   "cell_type": "code",
   "execution_count": 117,
   "metadata": {},
   "outputs": [
    {
     "data": {
      "text/plain": [
       "1"
      ]
     },
     "execution_count": 117,
     "metadata": {},
     "output_type": "execute_result"
    }
   ],
   "source": [
    "p.dont_pass"
   ]
  },
  {
   "cell_type": "code",
   "execution_count": 34,
   "metadata": {},
   "outputs": [
    {
     "data": {
      "text/plain": [
       "0"
      ]
     },
     "execution_count": 34,
     "metadata": {},
     "output_type": "execute_result"
    }
   ],
   "source": [
    "\n",
    "bet.update()\n",
    "p._get_bet('pass')"
   ]
  },
  {
   "cell_type": "code",
   "execution_count": 33,
   "metadata": {},
   "outputs": [
    {
     "data": {
      "text/plain": [
       "0"
      ]
     },
     "execution_count": 33,
     "metadata": {},
     "output_type": "execute_result"
    }
   ],
   "source": [
    "p.pass_"
   ]
  },
  {
   "cell_type": "code",
   "execution_count": null,
   "metadata": {},
   "outputs": [],
   "source": [
    "#SCRATCH\n",
    "#check if point is set\n",
    "        if self.on:\n",
    "            #checks if roll matches the point\n",
    "            if self.point == self.dice_sum:\n",
    "                #TODO pay out, different for pass or dont pass bets\n",
    "\n",
    "                #set on to off & reset point\n",
    "                self.game_on = False\n",
    "                self.point = 0\n",
    "            else:\n",
    "                #TODO pay out\n",
    "                pass\n",
    "        else:\n",
    "            if self.dice_sum in {2,3,12}:\n",
    "                #...?\n",
    "            elif self.dice_sum in {7,11}:\n",
    "                #set game_on to off\n",
    "            \n",
    "            #updates sets self.point, self.dice_sum, and switches self.on to True\n",
    "            #check if point is craps and so on\n",
    "            self.point = self.dice_sum\n",
    "            print(f'The point is set to {self.point}')\n",
    "            self.on = True\n",
    "\n",
    "            #check if players get pay out\n",
    "            #check to increase bet\n",
    "            \n",
    "# attempt at a nice state management, went with a more imperative way           \n",
    "\n",
    "\n",
    "#TODO Optimize switch statement for placing bet                    \n",
    "#     def _place_bet(self, placement, amount):\n",
    "\n",
    "#         switcher={\n",
    "#             #Box Numbers bets\n",
    "#             'four' : self.four,\n",
    "#             'five' : self.five,\n",
    "#             'six' : self.six,\n",
    "#             'eight' : self.eight,\n",
    "#             'nine' : self.nine,\n",
    "#             'ten' : self.ten,\n",
    "#             'pass' : self.pass_,\n",
    "#             'pass_odds' : self.pass_odds,\n",
    "#             'dont_pass' : self.dont_pass,\n",
    "#             'dont_pass_odds' : self.dont_pass_odds\n",
    "#         }\n",
    "\n",
    "#         print(switcher['pass'], amount)"
   ]
  }
 ],
 "metadata": {
  "kernelspec": {
   "display_name": "Python 3",
   "language": "python",
   "name": "python3"
  },
  "language_info": {
   "codemirror_mode": {
    "name": "ipython",
    "version": 3
   },
   "file_extension": ".py",
   "mimetype": "text/x-python",
   "name": "python",
   "nbconvert_exporter": "python",
   "pygments_lexer": "ipython3",
   "version": "3.7.7"
  }
 },
 "nbformat": 4,
 "nbformat_minor": 4
}
